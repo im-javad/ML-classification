{
 "cells": [
  {
   "cell_type": "markdown",
   "id": "a8c462b0-f332-42a2-ae9d-9e803f358e00",
   "metadata": {},
   "source": [
    "## Intro"
   ]
  },
  {
   "cell_type": "markdown",
   "id": "6d17d5a6-befa-4eac-9631-b75891b06250",
   "metadata": {},
   "source": [
    "##### بطور عامیانه میشه اینکه من چجوری پیشبینی بکنم که من رو به کدوم کلاس(یا گروه) برسونه\n",
    "##### در رگرسیون ایگرگ ما یک مقدار پیوسته بود ولی اینجا مثل یک کلاس هست که هرکدوم توی یک کلاس یا طبقه بندی هست\n",
    "##### روش های کلاسیفیکیشن => KNN , Decision Trees, Logistic Regression, SVM"
   ]
  },
  {
   "cell_type": "markdown",
   "id": "8065d21b-cea3-425e-b1db-3db3d40af21e",
   "metadata": {},
   "source": [
    "##### کلاسیفیکشن ها سوپروایز هستند یعنی نظارت شده هست و ما ایکس های ورودی میدم و میگه اینها شدن این ایگرگ(در این رتبه یا کلاس)\n",
    "##### در این روش هم مانند رگرسیون ما هم یادگیری داریم و هم تست و تمرین در ماشین که بهش سوپروایز گفته میشه\n",
    "##### حتما پیشبینی باید در یکی از این کلاس ها یا رتبه ها باشه و بین و ... در این روش معنایی نداره\n",
    "##### یا باینری هستند کلاس ها (جواب ها به یکی از این دو حالت خواهد رسید) و یا مولتی کلاس هست \n",
    "##### کاربرد این روش هم درجاهایی مانند دریافت وام (وام بدیم یا ندیم(باینری هست)) و یا بازاریابی و یا ایمیل های اسپم و یا غیره"
   ]
  },
  {
   "cell_type": "markdown",
   "id": "08f1c77f-0008-49b9-945c-73763ac38358",
   "metadata": {},
   "source": [
    "## Classification Models"
   ]
  },
  {
   "cell_type": "markdown",
   "id": "72270410-5218-4282-a84e-e28c0c26e059",
   "metadata": {},
   "source": [
    "##### Decision Trees (ID3, C4.5, C5.0) => یک درخت تصمیم \n",
    "##### Naive Bayes \n",
    "##### Linear Discriminant Analysis \n",
    "##### K-Nearest Neighbor(KNN) => میگه ببین این شبیه کدوم یک از دوستاشه (ممد اصغر یا اکبر)\n",
    "##### Logistic Regression \n",
    "##### Neural Networks => شبکه های عصبی \n",
    "##### Support Vector Machines(SVM)  "
   ]
  },
  {
   "cell_type": "code",
   "execution_count": null,
   "id": "d557b86e-01a3-4bcf-8084-574d2942ae01",
   "metadata": {},
   "outputs": [],
   "source": []
  }
 ],
 "metadata": {
  "kernelspec": {
   "display_name": "Python 3 (ipykernel)",
   "language": "python",
   "name": "python3"
  },
  "language_info": {
   "codemirror_mode": {
    "name": "ipython",
    "version": 3
   },
   "file_extension": ".py",
   "mimetype": "text/x-python",
   "name": "python",
   "nbconvert_exporter": "python",
   "pygments_lexer": "ipython3",
   "version": "3.13.5"
  }
 },
 "nbformat": 4,
 "nbformat_minor": 5
}
